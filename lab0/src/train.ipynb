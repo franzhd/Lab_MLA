{
 "cells": [
  {
   "cell_type": "code",
   "execution_count": null,
   "metadata": {},
   "outputs": [],
   "source": [
    "mport torch\n",
    "from torch.utils.data import Dataset\n",
    "from torchvision import datasets\n",
    "from torchvision.transforms import ToTensor\n",
    "import matplotlib.pyplot as plt\n",
    "import os\n",
    "import pandas as pd\n",
    "from torchvision.io import read_image"
   ]
  },
  {
   "cell_type": "code",
   "execution_count": null,
   "metadata": {},
   "outputs": [],
   "source": [
    "class CustomDataLoader(Dataset):\n",
    "\n",
    "    def__init__(self, annotation_file, img_dir, transform=None, target_transform=None):\n",
    "        self.img_labels = self.from_image_to__label(img_dir)\n",
    "\n",
    "\n",
    "    from_image_to_label(self, image_dir):\n",
    "        with open(\"dataset.csv\", \"w\") as f:\n",
    "            for img in os.listdir(image_dir):\n",
    "                f.write( )\n",
    "\n"
   ]
  }
 ],
 "metadata": {
  "language_info": {
   "name": "python"
  },
  "orig_nbformat": 4
 },
 "nbformat": 4,
 "nbformat_minor": 2
}

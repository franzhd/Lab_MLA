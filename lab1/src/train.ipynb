{
 "cells": [
  {
   "cell_type": "code",
   "execution_count": 1,
   "metadata": {},
   "outputs": [],
   "source": [
    "from PIL import Image as Pimage\n",
    "import cv2 as cv\n",
    "import torch\n",
    "import torch.nn as nn\n",
    "import torch.utils.data as data\n",
    "from torch.utils.data import Dataset\n",
    "import torch.optim as optim\n",
    "from torch.utils.tensorboard import SummaryWriter \n",
    "import torchvision.utils as utils\n",
    "from torch.utils.data import DataLoader\n",
    "import torchvision.transforms as transf\n",
    "import matplotlib.pyplot as plt\n",
    "import os\n",
    "import pandas as pd\n",
    "import numpy as np\n",
    "from sklearn.metrics import confusion_matrix\n",
    "from torchvision.io import read_image\n",
    "from torchvision.datasets import CocoDetection"
   ]
  },
  {
   "cell_type": "code",
   "execution_count": 2,
   "metadata": {},
   "outputs": [],
   "source": [
    "class CustomDataset(CocoDetection):\n",
    "    def __init__(self,\n",
    "                 root,\n",
    "                 annFile,\n",
    "                 transform=None,\n",
    "                 target_transform=None) -> None:\n",
    "        super().__init__(root, annFile, transform, target_transform)\n",
    "        self.ids = [\n",
    "            \"A list of all the file names which satisfy your criteria \"\n",
    "        ]\n",
    "        # You can get the above list by applying your filtering logic to\n",
    "        # this list :list(self.coco.imgs.keys()) So this would only be have\n",
    "        # to be done only once.\n",
    "        # Save it to a text file. This file will now contain the names of\n",
    "        # images that match your criteria\n",
    "        # Load that file contents in the init function into self.ids\n",
    "        # the length would automatically be correct\n",
    "\n",
    "    def __getitem__(self, index: int):\n",
    "        img, target = super().__getitem__(index)\n",
    "        # do whatever you want\n",
    "        return img, target\n"
   ]
  },
  {
   "cell_type": "code",
   "execution_count": 4,
   "metadata": {},
   "outputs": [
    {
     "ename": "TypeError",
     "evalue": "'type' object is not subscriptable",
     "output_type": "error",
     "traceback": [
      "\u001b[0;31m---------------------------------------------------------------------------\u001b[0m",
      "\u001b[0;31mTypeError\u001b[0m                                 Traceback (most recent call last)",
      "\u001b[1;32m/home/franzhd/Lab_MLA/lab1/src/train.ipynb Cell 3'\u001b[0m in \u001b[0;36m<cell line: 3>\u001b[0;34m()\u001b[0m\n\u001b[1;32m      <a href='vscode-notebook-cell:/home/franzhd/Lab_MLA/lab1/src/train.ipynb#ch0000002?line=0'>1</a>\u001b[0m dataset_folder \u001b[39m=\u001b[39m \u001b[39m\"\u001b[39m\u001b[39m../data/BSData/data\u001b[39m\u001b[39m\"\u001b[39m\n\u001b[1;32m      <a href='vscode-notebook-cell:/home/franzhd/Lab_MLA/lab1/src/train.ipynb#ch0000002?line=1'>2</a>\u001b[0m ann_folder \u001b[39m=\u001b[39m \u001b[39m\"\u001b[39m\u001b[39m../data/BSData/label\u001b[39m\u001b[39m\"\u001b[39m\n\u001b[0;32m----> <a href='vscode-notebook-cell:/home/franzhd/Lab_MLA/lab1/src/train.ipynb#ch0000002?line=2'>3</a>\u001b[0m Bsd_dataset \u001b[39m=\u001b[39m CustomDataset(dataset_folder,ann_folder, transform\u001b[39m=\u001b[39mtransf\u001b[39m.\u001b[39;49mCompose[transf\u001b[39m.\u001b[39;49mToTensor()])\n",
      "\u001b[0;31mTypeError\u001b[0m: 'type' object is not subscriptable"
     ]
    }
   ],
   "source": [
    "dataset_folder = \"../data/BSData/data\"\n",
    "ann_folder = \"../data/BSData/label\"\n",
    "Bsd_dataset = CustomDataset(dataset_folder,ann_folder)\n"
   ]
  }
 ],
 "metadata": {
  "interpreter": {
   "hash": "31f2aee4e71d21fbe5cf8b01ff0e069b9275f58929596ceb00d14d90e3e16cd6"
  },
  "kernelspec": {
   "display_name": "Python 3.9.7 64-bit",
   "language": "python",
   "name": "python3"
  },
  "language_info": {
   "codemirror_mode": {
    "name": "ipython",
    "version": 3
   },
   "file_extension": ".py",
   "mimetype": "text/x-python",
   "name": "python",
   "nbconvert_exporter": "python",
   "pygments_lexer": "ipython3",
   "version": "3.9.7"
  },
  "orig_nbformat": 4
 },
 "nbformat": 4,
 "nbformat_minor": 2
}
